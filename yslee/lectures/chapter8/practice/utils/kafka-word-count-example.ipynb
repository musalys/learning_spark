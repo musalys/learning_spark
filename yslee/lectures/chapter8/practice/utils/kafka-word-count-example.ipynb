{
 "cells": [
  {
   "cell_type": "code",
   "execution_count": null,
   "metadata": {},
   "outputs": [],
   "source": [
    "from pyspark.sql import SparkSession\n",
    "from pyspark.sql.functions import explode\n",
    "from pyspark.sql.functions import split\n",
    "\n",
    "\n",
    "spark = SparkSession\\\n",
    "    .builder\\\n",
    "    .appName(\"StructuredKafkaWordCount\")\\\n",
    "    .config(\"spark.streaming.stopGracefullyOnShutdown\", True) \\\n",
    "    .config('spark.jars.packages', 'org.apache.spark:spark-sql-kafka-0-10_2.12:3.3.0') \\\n",
    "    .config(\"spark.sql.shuffle.partitions\", 4) \\\n",
    "    .getOrCreate()\n",
    "spark"
   ]
  },
  {
   "cell_type": "code",
   "execution_count": null,
   "metadata": {},
   "outputs": [],
   "source": [
    "bootstrapServers = \"kafka1:19091,kafka2:19092,kafka3:19093\"\n",
    "subscribeType = \"subscribe\"\n",
    "topics = \"kafka-word-count-example\"\n",
    "\n",
    "# Create DataSet representing the stream of input lines from kafka\n",
    "lines = spark\\\n",
    "    .readStream\\\n",
    "    .format(\"kafka\")\\\n",
    "    .option(\"kafka.bootstrap.servers\", bootstrapServers)\\\n",
    "    .option(subscribeType, topics)\\\n",
    "    .load()\\\n",
    "    .selectExpr(\"CAST(value AS STRING)\")"
   ]
  },
  {
   "cell_type": "code",
   "execution_count": null,
   "metadata": {},
   "outputs": [],
   "source": [
    "# Split the lines into words\n",
    "words = lines.select(\n",
    "    # explode turns each item in an array into a separate row\n",
    "    explode(\n",
    "        split(lines.value, ' ')\n",
    "    ).alias('word')\n",
    ")\n",
    "\n",
    "# Generate running word count\n",
    "wordCounts = words.groupBy('word').count()\n",
    "\n",
    "# Start running the query that prints the running counts to the console\n",
    "query = wordCounts\\\n",
    "    .writeStream\\\n",
    "    .trigger(processingTime='3 seconds')\\\n",
    "    .outputMode('complete')\\\n",
    "    .format('console')\\\n",
    "    .start()\n",
    "\n",
    "query.awaitTermination()"
   ]
  }
 ],
 "metadata": {
  "language_info": {
   "name": "python"
  }
 },
 "nbformat": 4,
 "nbformat_minor": 2
}
